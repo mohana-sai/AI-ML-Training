{
 "cells": [
  {
   "cell_type": "code",
   "execution_count": 2,
   "id": "c587848a",
   "metadata": {},
   "outputs": [],
   "source": [
    "import camelot"
   ]
  },
  {
   "cell_type": "code",
   "execution_count": 3,
   "id": "b6a82be6",
   "metadata": {},
   "outputs": [
    {
     "name": "stderr",
     "output_type": "stream",
     "text": [
      "UserWarning: No tables found on page-5 [lattice.py:416]\n",
      "UserWarning: No tables found on page-6 [lattice.py:416]\n"
     ]
    }
   ],
   "source": [
    "pdf = camelot.read_pdf(\"semistructured.pdf\", pages='all')"
   ]
  },
  {
   "cell_type": "code",
   "execution_count": 4,
   "id": "a24c4961",
   "metadata": {},
   "outputs": [
    {
     "data": {
      "text/plain": [
       "camelot.core.TableList"
      ]
     },
     "execution_count": 4,
     "metadata": {},
     "output_type": "execute_result"
    }
   ],
   "source": [
    "type(pdf)"
   ]
  },
  {
   "cell_type": "code",
   "execution_count": 5,
   "id": "91789ae1",
   "metadata": {},
   "outputs": [
    {
     "data": {
      "text/plain": [
       "<TableList n=4>"
      ]
     },
     "execution_count": 5,
     "metadata": {},
     "output_type": "execute_result"
    }
   ],
   "source": [
    "pdf"
   ]
  },
  {
   "cell_type": "code",
   "execution_count": 6,
   "id": "65333c41",
   "metadata": {},
   "outputs": [
    {
     "data": {
      "text/plain": [
       "<Table shape=(7, 4)>"
      ]
     },
     "execution_count": 6,
     "metadata": {},
     "output_type": "execute_result"
    }
   ],
   "source": [
    "pdf[1]"
   ]
  },
  {
   "cell_type": "code",
   "execution_count": 7,
   "id": "62aa8e3c",
   "metadata": {},
   "outputs": [],
   "source": [
    "first_pdf = pdf[1]"
   ]
  },
  {
   "cell_type": "code",
   "execution_count": 8,
   "id": "3bbe1030",
   "metadata": {},
   "outputs": [
    {
     "data": {
      "text/html": [
       "<div>\n",
       "<style scoped>\n",
       "    .dataframe tbody tr th:only-of-type {\n",
       "        vertical-align: middle;\n",
       "    }\n",
       "\n",
       "    .dataframe tbody tr th {\n",
       "        vertical-align: top;\n",
       "    }\n",
       "\n",
       "    .dataframe thead th {\n",
       "        text-align: right;\n",
       "    }\n",
       "</style>\n",
       "<table border=\"1\" class=\"dataframe\">\n",
       "  <thead>\n",
       "    <tr style=\"text-align: right;\">\n",
       "      <th></th>\n",
       "      <th>0</th>\n",
       "      <th>1</th>\n",
       "      <th>2</th>\n",
       "      <th>3</th>\n",
       "    </tr>\n",
       "  </thead>\n",
       "  <tbody>\n",
       "    <tr>\n",
       "      <th>0</th>\n",
       "      <td></td>\n",
       "      <td></td>\n",
       "      <td></td>\n",
       "      <td>remedial\\n  steps  \\n(if\\n  any)\\n  and  \\nide...</td>\n",
       "    </tr>\n",
       "    <tr>\n",
       "      <th>1</th>\n",
       "      <td>6.</td>\n",
       "      <td>Age Limit</td>\n",
       "      <td>:</td>\n",
       "      <td>Candidate should not be above 25 years\\nof age...</td>\n",
       "    </tr>\n",
       "    <tr>\n",
       "      <th>2</th>\n",
       "      <td>7.</td>\n",
       "      <td>Remuneration</td>\n",
       "      <td>:</td>\n",
       "      <td>Maximum\\n \\namount\\n \\nof\\n \\nmonthly\\nconsoli...</td>\n",
       "    </tr>\n",
       "    <tr>\n",
       "      <th>3</th>\n",
       "      <td>8.</td>\n",
       "      <td>Allowances</td>\n",
       "      <td>:</td>\n",
       "      <td>Candidate   shall   not   be   entitled   to  ...</td>\n",
       "    </tr>\n",
       "    <tr>\n",
       "      <th>4</th>\n",
       "      <td>9.</td>\n",
       "      <td>Leave</td>\n",
       "      <td>:</td>\n",
       "      <td>The Candidate shall be eligible for 8 days’\\nl...</td>\n",
       "    </tr>\n",
       "    <tr>\n",
       "      <th>5</th>\n",
       "      <td>10.</td>\n",
       "      <td>TA/DA</td>\n",
       "      <td>:</td>\n",
       "      <td>No TA/DA shall be admissible for joining\\nthe ...</td>\n",
       "    </tr>\n",
       "    <tr>\n",
       "      <th>6</th>\n",
       "      <td>11.</td>\n",
       "      <td>Termination Notice</td>\n",
       "      <td>:</td>\n",
       "      <td>The MCPC can cancel the appointment at</td>\n",
       "    </tr>\n",
       "  </tbody>\n",
       "</table>\n",
       "</div>"
      ],
      "text/plain": [
       "     0                   1  2  \\\n",
       "0                               \n",
       "1   6.           Age Limit  :   \n",
       "2   7.        Remuneration  :   \n",
       "3   8.          Allowances  :   \n",
       "4   9.               Leave  :   \n",
       "5  10.               TA/DA  :   \n",
       "6  11.  Termination Notice  :   \n",
       "\n",
       "                                                   3  \n",
       "0  remedial\\n  steps  \\n(if\\n  any)\\n  and  \\nide...  \n",
       "1  Candidate should not be above 25 years\\nof age...  \n",
       "2  Maximum\\n \\namount\\n \\nof\\n \\nmonthly\\nconsoli...  \n",
       "3  Candidate   shall   not   be   entitled   to  ...  \n",
       "4  The Candidate shall be eligible for 8 days’\\nl...  \n",
       "5  No TA/DA shall be admissible for joining\\nthe ...  \n",
       "6             The MCPC can cancel the appointment at  "
      ]
     },
     "execution_count": 8,
     "metadata": {},
     "output_type": "execute_result"
    }
   ],
   "source": [
    "first_pdf.df"
   ]
  },
  {
   "cell_type": "code",
   "execution_count": 9,
   "id": "1c1aac6a",
   "metadata": {},
   "outputs": [],
   "source": [
    "first_pdf.to_csv(\"semistructured.csv\")"
   ]
  },
  {
   "cell_type": "code",
   "execution_count": 10,
   "id": "11835449",
   "metadata": {},
   "outputs": [
    {
     "data": {
      "text/plain": [
       "{'accuracy': 100.0, 'whitespace': 10.71, 'order': 1, 'page': 2}"
      ]
     },
     "execution_count": 10,
     "metadata": {},
     "output_type": "execute_result"
    }
   ],
   "source": [
    "pdf[1].parsing_report"
   ]
  },
  {
   "cell_type": "code",
   "execution_count": 11,
   "id": "27447a62",
   "metadata": {},
   "outputs": [
    {
     "data": {
      "text/plain": [
       "<Table shape=(7, 4)>"
      ]
     },
     "execution_count": 11,
     "metadata": {},
     "output_type": "execute_result"
    }
   ],
   "source": [
    "first_pdf"
   ]
  },
  {
   "cell_type": "code",
   "execution_count": null,
   "id": "edbb99ce",
   "metadata": {},
   "outputs": [],
   "source": []
  },
  {
   "cell_type": "code",
   "execution_count": null,
   "id": "f8c83dd9",
   "metadata": {},
   "outputs": [],
   "source": []
  }
 ],
 "metadata": {
  "kernelspec": {
   "display_name": "Python 3",
   "language": "python",
   "name": "python3"
  },
  "language_info": {
   "codemirror_mode": {
    "name": "ipython",
    "version": 3
   },
   "file_extension": ".py",
   "mimetype": "text/x-python",
   "name": "python",
   "nbconvert_exporter": "python",
   "pygments_lexer": "ipython3",
   "version": "3.8.8"
  }
 },
 "nbformat": 4,
 "nbformat_minor": 5
}
