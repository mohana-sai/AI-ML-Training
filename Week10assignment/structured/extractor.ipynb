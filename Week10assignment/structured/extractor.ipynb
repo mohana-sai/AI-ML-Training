{
 "cells": [
  {
   "cell_type": "code",
   "execution_count": 46,
   "id": "c587848a",
   "metadata": {},
   "outputs": [],
   "source": [
    "import camelot"
   ]
  },
  {
   "cell_type": "code",
   "execution_count": 48,
   "id": "b6a82be6",
   "metadata": {},
   "outputs": [],
   "source": [
    "pdf = camelot.read_pdf(\"structured.pdf\", pages='all')"
   ]
  },
  {
   "cell_type": "code",
   "execution_count": 49,
   "id": "a24c4961",
   "metadata": {},
   "outputs": [
    {
     "data": {
      "text/plain": [
       "camelot.core.TableList"
      ]
     },
     "execution_count": 49,
     "metadata": {},
     "output_type": "execute_result"
    }
   ],
   "source": [
    "type(pdf)"
   ]
  },
  {
   "cell_type": "code",
   "execution_count": 50,
   "id": "91789ae1",
   "metadata": {},
   "outputs": [
    {
     "data": {
      "text/plain": [
       "<TableList n=2>"
      ]
     },
     "execution_count": 50,
     "metadata": {},
     "output_type": "execute_result"
    }
   ],
   "source": [
    "pdf"
   ]
  },
  {
   "cell_type": "code",
   "execution_count": 54,
   "id": "65333c41",
   "metadata": {},
   "outputs": [
    {
     "data": {
      "text/plain": [
       "<Table shape=(13, 3)>"
      ]
     },
     "execution_count": 54,
     "metadata": {},
     "output_type": "execute_result"
    }
   ],
   "source": [
    "pdf[1]"
   ]
  },
  {
   "cell_type": "code",
   "execution_count": 55,
   "id": "62aa8e3c",
   "metadata": {},
   "outputs": [],
   "source": [
    "first_pdf = pdf[1]"
   ]
  },
  {
   "cell_type": "code",
   "execution_count": 56,
   "id": "3bbe1030",
   "metadata": {},
   "outputs": [
    {
     "data": {
      "text/html": [
       "<div>\n",
       "<style scoped>\n",
       "    .dataframe tbody tr th:only-of-type {\n",
       "        vertical-align: middle;\n",
       "    }\n",
       "\n",
       "    .dataframe tbody tr th {\n",
       "        vertical-align: top;\n",
       "    }\n",
       "\n",
       "    .dataframe thead th {\n",
       "        text-align: right;\n",
       "    }\n",
       "</style>\n",
       "<table border=\"1\" class=\"dataframe\">\n",
       "  <thead>\n",
       "    <tr style=\"text-align: right;\">\n",
       "      <th></th>\n",
       "      <th>0</th>\n",
       "      <th>1</th>\n",
       "      <th>2</th>\n",
       "    </tr>\n",
       "  </thead>\n",
       "  <tbody>\n",
       "    <tr>\n",
       "      <th>0</th>\n",
       "      <td>33</td>\n",
       "      <td>102190156</td>\n",
       "      <td>DEVESH SHUKLA</td>\n",
       "    </tr>\n",
       "    <tr>\n",
       "      <th>1</th>\n",
       "      <td>34</td>\n",
       "      <td>106190284</td>\n",
       "      <td>HARCHAND RAM</td>\n",
       "    </tr>\n",
       "    <tr>\n",
       "      <th>2</th>\n",
       "      <td>35</td>\n",
       "      <td>103190091</td>\n",
       "      <td>DIMPLE CHOUDHARI</td>\n",
       "    </tr>\n",
       "    <tr>\n",
       "      <th>3</th>\n",
       "      <td>36</td>\n",
       "      <td>103190312</td>\n",
       "      <td>BHAVYA MALIK</td>\n",
       "    </tr>\n",
       "    <tr>\n",
       "      <th>4</th>\n",
       "      <td>37</td>\n",
       "      <td>103190967</td>\n",
       "      <td>ASHUTOSH VERMA</td>\n",
       "    </tr>\n",
       "    <tr>\n",
       "      <th>5</th>\n",
       "      <td>38</td>\n",
       "      <td>103190151</td>\n",
       "      <td>LASHIT SHARMA</td>\n",
       "    </tr>\n",
       "    <tr>\n",
       "      <th>6</th>\n",
       "      <td>39</td>\n",
       "      <td>103190579</td>\n",
       "      <td>IEESHAN SHARMA</td>\n",
       "    </tr>\n",
       "    <tr>\n",
       "      <th>7</th>\n",
       "      <td>40</td>\n",
       "      <td>104190578</td>\n",
       "      <td>GARIMA SINGH</td>\n",
       "    </tr>\n",
       "    <tr>\n",
       "      <th>8</th>\n",
       "      <td>41</td>\n",
       "      <td>104190748</td>\n",
       "      <td>SUMIT SINGH</td>\n",
       "    </tr>\n",
       "    <tr>\n",
       "      <th>9</th>\n",
       "      <td>42</td>\n",
       "      <td>103190222</td>\n",
       "      <td>JAISHREE</td>\n",
       "    </tr>\n",
       "    <tr>\n",
       "      <th>10</th>\n",
       "      <td>43</td>\n",
       "      <td>103190298</td>\n",
       "      <td>ANKIT GUPTA</td>\n",
       "    </tr>\n",
       "    <tr>\n",
       "      <th>11</th>\n",
       "      <td>44</td>\n",
       "      <td>103191122</td>\n",
       "      <td>ANJALI GUPTA</td>\n",
       "    </tr>\n",
       "    <tr>\n",
       "      <th>12</th>\n",
       "      <td>45</td>\n",
       "      <td>101190281</td>\n",
       "      <td>TATHEER FATIMA</td>\n",
       "    </tr>\n",
       "  </tbody>\n",
       "</table>\n",
       "</div>"
      ],
      "text/plain": [
       "     0          1                 2\n",
       "0   33  102190156     DEVESH SHUKLA\n",
       "1   34  106190284      HARCHAND RAM\n",
       "2   35  103190091  DIMPLE CHOUDHARI\n",
       "3   36  103190312      BHAVYA MALIK\n",
       "4   37  103190967    ASHUTOSH VERMA\n",
       "5   38  103190151     LASHIT SHARMA\n",
       "6   39  103190579    IEESHAN SHARMA\n",
       "7   40  104190578      GARIMA SINGH\n",
       "8   41  104190748       SUMIT SINGH\n",
       "9   42  103190222          JAISHREE\n",
       "10  43  103190298       ANKIT GUPTA\n",
       "11  44  103191122      ANJALI GUPTA\n",
       "12  45  101190281    TATHEER FATIMA"
      ]
     },
     "execution_count": 56,
     "metadata": {},
     "output_type": "execute_result"
    }
   ],
   "source": [
    "first_pdf.df"
   ]
  },
  {
   "cell_type": "code",
   "execution_count": 57,
   "id": "1c1aac6a",
   "metadata": {},
   "outputs": [],
   "source": [
    "first_pdf.to_csv(\"semistructured.csv\")"
   ]
  },
  {
   "cell_type": "code",
   "execution_count": 59,
   "id": "11835449",
   "metadata": {},
   "outputs": [
    {
     "data": {
      "text/plain": [
       "{'accuracy': 100.0, 'whitespace': 0.0, 'order': 1, 'page': 2}"
      ]
     },
     "execution_count": 59,
     "metadata": {},
     "output_type": "execute_result"
    }
   ],
   "source": [
    "pdf[1].parsing_report"
   ]
  },
  {
   "cell_type": "code",
   "execution_count": 60,
   "id": "27447a62",
   "metadata": {},
   "outputs": [
    {
     "data": {
      "text/plain": [
       "<Table shape=(13, 3)>"
      ]
     },
     "execution_count": 60,
     "metadata": {},
     "output_type": "execute_result"
    }
   ],
   "source": [
    "first_pdf"
   ]
  },
  {
   "cell_type": "code",
   "execution_count": null,
   "id": "edbb99ce",
   "metadata": {},
   "outputs": [],
   "source": []
  },
  {
   "cell_type": "code",
   "execution_count": null,
   "id": "f8c83dd9",
   "metadata": {},
   "outputs": [],
   "source": []
  }
 ],
 "metadata": {
  "kernelspec": {
   "display_name": "Python 3",
   "language": "python",
   "name": "python3"
  },
  "language_info": {
   "codemirror_mode": {
    "name": "ipython",
    "version": 3
   },
   "file_extension": ".py",
   "mimetype": "text/x-python",
   "name": "python",
   "nbconvert_exporter": "python",
   "pygments_lexer": "ipython3",
   "version": "3.8.8"
  }
 },
 "nbformat": 4,
 "nbformat_minor": 5
}
