{
 "cells": [
  {
   "cell_type": "code",
   "execution_count": 3,
   "id": "c587848a",
   "metadata": {},
   "outputs": [],
   "source": [
    "import camelot"
   ]
  },
  {
   "cell_type": "code",
   "execution_count": 4,
   "id": "b6a82be6",
   "metadata": {},
   "outputs": [],
   "source": [
    "pdf = camelot.read_pdf(\"45CANDIDATES.pdf\")"
   ]
  },
  {
   "cell_type": "code",
   "execution_count": 5,
   "id": "a24c4961",
   "metadata": {},
   "outputs": [
    {
     "data": {
      "text/plain": [
       "camelot.core.TableList"
      ]
     },
     "execution_count": 5,
     "metadata": {},
     "output_type": "execute_result"
    }
   ],
   "source": [
    "type(pdf)"
   ]
  },
  {
   "cell_type": "code",
   "execution_count": 6,
   "id": "91789ae1",
   "metadata": {},
   "outputs": [
    {
     "data": {
      "text/plain": [
       "<TableList n=1>"
      ]
     },
     "execution_count": 6,
     "metadata": {},
     "output_type": "execute_result"
    }
   ],
   "source": [
    "pdf"
   ]
  },
  {
   "cell_type": "code",
   "execution_count": 7,
   "id": "65333c41",
   "metadata": {},
   "outputs": [
    {
     "data": {
      "text/plain": [
       "<Table shape=(33, 3)>"
      ]
     },
     "execution_count": 7,
     "metadata": {},
     "output_type": "execute_result"
    }
   ],
   "source": [
    "pdf[0]"
   ]
  },
  {
   "cell_type": "code",
   "execution_count": 8,
   "id": "62aa8e3c",
   "metadata": {},
   "outputs": [],
   "source": [
    "first_pdf = pdf[0]"
   ]
  },
  {
   "cell_type": "code",
   "execution_count": 9,
   "id": "3bbe1030",
   "metadata": {},
   "outputs": [
    {
     "data": {
      "text/html": [
       "<div>\n",
       "<style scoped>\n",
       "    .dataframe tbody tr th:only-of-type {\n",
       "        vertical-align: middle;\n",
       "    }\n",
       "\n",
       "    .dataframe tbody tr th {\n",
       "        vertical-align: top;\n",
       "    }\n",
       "\n",
       "    .dataframe thead th {\n",
       "        text-align: right;\n",
       "    }\n",
       "</style>\n",
       "<table border=\"1\" class=\"dataframe\">\n",
       "  <thead>\n",
       "    <tr style=\"text-align: right;\">\n",
       "      <th></th>\n",
       "      <th>0</th>\n",
       "      <th>1</th>\n",
       "      <th>2</th>\n",
       "    </tr>\n",
       "  </thead>\n",
       "  <tbody>\n",
       "    <tr>\n",
       "      <th>0</th>\n",
       "      <td>S. No.</td>\n",
       "      <td>Roll No.</td>\n",
       "      <td>Name of the Candidate</td>\n",
       "    </tr>\n",
       "    <tr>\n",
       "      <th>1</th>\n",
       "      <td>1</td>\n",
       "      <td>102190498</td>\n",
       "      <td>RUCHI</td>\n",
       "    </tr>\n",
       "    <tr>\n",
       "      <th>2</th>\n",
       "      <td>2</td>\n",
       "      <td>103190880</td>\n",
       "      <td>RAVI ARORA</td>\n",
       "    </tr>\n",
       "    <tr>\n",
       "      <th>3</th>\n",
       "      <td>3</td>\n",
       "      <td>104190001</td>\n",
       "      <td>ANANT KUMAR</td>\n",
       "    </tr>\n",
       "    <tr>\n",
       "      <th>4</th>\n",
       "      <td>4</td>\n",
       "      <td>104190797</td>\n",
       "      <td>YASHDEEP CHAHAL</td>\n",
       "    </tr>\n",
       "    <tr>\n",
       "      <th>5</th>\n",
       "      <td>5</td>\n",
       "      <td>103190896</td>\n",
       "      <td>ARJUN ANAND</td>\n",
       "    </tr>\n",
       "    <tr>\n",
       "      <th>6</th>\n",
       "      <td>6</td>\n",
       "      <td>103190332</td>\n",
       "      <td>ROHIT KUMAR BEDI</td>\n",
       "    </tr>\n",
       "    <tr>\n",
       "      <th>7</th>\n",
       "      <td>7</td>\n",
       "      <td>106190095</td>\n",
       "      <td>PUSHKAR BHARADWAJ</td>\n",
       "    </tr>\n",
       "    <tr>\n",
       "      <th>8</th>\n",
       "      <td>8</td>\n",
       "      <td>103190595</td>\n",
       "      <td>MUKESH CHOUDHARY</td>\n",
       "    </tr>\n",
       "    <tr>\n",
       "      <th>9</th>\n",
       "      <td>9</td>\n",
       "      <td>104190442</td>\n",
       "      <td>SHUBHAM AGARWAL</td>\n",
       "    </tr>\n",
       "    <tr>\n",
       "      <th>10</th>\n",
       "      <td>10</td>\n",
       "      <td>102190052</td>\n",
       "      <td>SIDDHARTH GODARA</td>\n",
       "    </tr>\n",
       "    <tr>\n",
       "      <th>11</th>\n",
       "      <td>11</td>\n",
       "      <td>102190433</td>\n",
       "      <td>ADITYA SHARMA</td>\n",
       "    </tr>\n",
       "    <tr>\n",
       "      <th>12</th>\n",
       "      <td>12</td>\n",
       "      <td>104190679</td>\n",
       "      <td>NAVNEET KAUR</td>\n",
       "    </tr>\n",
       "    <tr>\n",
       "      <th>13</th>\n",
       "      <td>13</td>\n",
       "      <td>105190875</td>\n",
       "      <td>AKSHAT TOMAR</td>\n",
       "    </tr>\n",
       "    <tr>\n",
       "      <th>14</th>\n",
       "      <td>14</td>\n",
       "      <td>102190291</td>\n",
       "      <td>SAGAR SHARMA</td>\n",
       "    </tr>\n",
       "    <tr>\n",
       "      <th>15</th>\n",
       "      <td>15</td>\n",
       "      <td>104190810</td>\n",
       "      <td>KUNAL AHLAWAT</td>\n",
       "    </tr>\n",
       "    <tr>\n",
       "      <th>16</th>\n",
       "      <td>16</td>\n",
       "      <td>104190230</td>\n",
       "      <td>VAIBHAV PRATAP SINGH</td>\n",
       "    </tr>\n",
       "    <tr>\n",
       "      <th>17</th>\n",
       "      <td>17</td>\n",
       "      <td>105190725</td>\n",
       "      <td>HIMANSHU BHARGAV</td>\n",
       "    </tr>\n",
       "    <tr>\n",
       "      <th>18</th>\n",
       "      <td>18</td>\n",
       "      <td>103190328</td>\n",
       "      <td>UNNATI SRIVASTAVA</td>\n",
       "    </tr>\n",
       "    <tr>\n",
       "      <th>19</th>\n",
       "      <td>19</td>\n",
       "      <td>104190367</td>\n",
       "      <td>ADARSH TRIPATHI</td>\n",
       "    </tr>\n",
       "    <tr>\n",
       "      <th>20</th>\n",
       "      <td>20</td>\n",
       "      <td>103190818</td>\n",
       "      <td>ASTHA BHARTI</td>\n",
       "    </tr>\n",
       "    <tr>\n",
       "      <th>21</th>\n",
       "      <td>21</td>\n",
       "      <td>105190250</td>\n",
       "      <td>SUKRITI SINGH</td>\n",
       "    </tr>\n",
       "    <tr>\n",
       "      <th>22</th>\n",
       "      <td>22</td>\n",
       "      <td>105190783</td>\n",
       "      <td>AGAM SHARMA</td>\n",
       "    </tr>\n",
       "    <tr>\n",
       "      <th>23</th>\n",
       "      <td>23</td>\n",
       "      <td>103190554</td>\n",
       "      <td>KIRANDEEP KAUR</td>\n",
       "    </tr>\n",
       "    <tr>\n",
       "      <th>24</th>\n",
       "      <td>*24</td>\n",
       "      <td>103191094</td>\n",
       "      <td>VINEET DWIVEDI</td>\n",
       "    </tr>\n",
       "    <tr>\n",
       "      <th>25</th>\n",
       "      <td>25</td>\n",
       "      <td>103190156</td>\n",
       "      <td>PRIYA BARANWAL</td>\n",
       "    </tr>\n",
       "    <tr>\n",
       "      <th>26</th>\n",
       "      <td>26</td>\n",
       "      <td>104190688</td>\n",
       "      <td>AGRIMA SHARMA</td>\n",
       "    </tr>\n",
       "    <tr>\n",
       "      <th>27</th>\n",
       "      <td>*27</td>\n",
       "      <td>101190071</td>\n",
       "      <td>DEEPESH BAHADUR</td>\n",
       "    </tr>\n",
       "    <tr>\n",
       "      <th>28</th>\n",
       "      <td>28</td>\n",
       "      <td>103190727</td>\n",
       "      <td>ASMITA SHARMA</td>\n",
       "    </tr>\n",
       "    <tr>\n",
       "      <th>29</th>\n",
       "      <td>29</td>\n",
       "      <td>103190772</td>\n",
       "      <td>NANCY AGRAWAL</td>\n",
       "    </tr>\n",
       "    <tr>\n",
       "      <th>30</th>\n",
       "      <td>30</td>\n",
       "      <td>102190551</td>\n",
       "      <td>VARUN TYAGI</td>\n",
       "    </tr>\n",
       "    <tr>\n",
       "      <th>31</th>\n",
       "      <td>31</td>\n",
       "      <td>103190951</td>\n",
       "      <td>ROHIT KUMAR</td>\n",
       "    </tr>\n",
       "    <tr>\n",
       "      <th>32</th>\n",
       "      <td>32</td>\n",
       "      <td>102190491</td>\n",
       "      <td>CHIRAG SHARMA</td>\n",
       "    </tr>\n",
       "  </tbody>\n",
       "</table>\n",
       "</div>"
      ],
      "text/plain": [
       "         0          1                      2\n",
       "0   S. No.   Roll No.  Name of the Candidate\n",
       "1        1  102190498                  RUCHI\n",
       "2        2  103190880             RAVI ARORA\n",
       "3        3  104190001            ANANT KUMAR\n",
       "4        4  104190797        YASHDEEP CHAHAL\n",
       "5        5  103190896            ARJUN ANAND\n",
       "6        6  103190332       ROHIT KUMAR BEDI\n",
       "7        7  106190095      PUSHKAR BHARADWAJ\n",
       "8        8  103190595       MUKESH CHOUDHARY\n",
       "9        9  104190442        SHUBHAM AGARWAL\n",
       "10      10  102190052       SIDDHARTH GODARA\n",
       "11      11  102190433          ADITYA SHARMA\n",
       "12      12  104190679           NAVNEET KAUR\n",
       "13      13  105190875           AKSHAT TOMAR\n",
       "14      14  102190291           SAGAR SHARMA\n",
       "15      15  104190810          KUNAL AHLAWAT\n",
       "16      16  104190230   VAIBHAV PRATAP SINGH\n",
       "17      17  105190725       HIMANSHU BHARGAV\n",
       "18      18  103190328      UNNATI SRIVASTAVA\n",
       "19      19  104190367        ADARSH TRIPATHI\n",
       "20      20  103190818           ASTHA BHARTI\n",
       "21      21  105190250          SUKRITI SINGH\n",
       "22      22  105190783            AGAM SHARMA\n",
       "23      23  103190554         KIRANDEEP KAUR\n",
       "24     *24  103191094         VINEET DWIVEDI\n",
       "25      25  103190156         PRIYA BARANWAL\n",
       "26      26  104190688          AGRIMA SHARMA\n",
       "27     *27  101190071        DEEPESH BAHADUR\n",
       "28      28  103190727          ASMITA SHARMA\n",
       "29      29  103190772          NANCY AGRAWAL\n",
       "30      30  102190551            VARUN TYAGI\n",
       "31      31  103190951            ROHIT KUMAR\n",
       "32      32  102190491          CHIRAG SHARMA"
      ]
     },
     "execution_count": 9,
     "metadata": {},
     "output_type": "execute_result"
    }
   ],
   "source": [
    "first_pdf.df"
   ]
  },
  {
   "cell_type": "code",
   "execution_count": 8,
   "id": "1c1aac6a",
   "metadata": {},
   "outputs": [],
   "source": [
    "first_pdf.to_csv(\"45CANDIDA.csv\")"
   ]
  },
  {
   "cell_type": "code",
   "execution_count": 15,
   "id": "11835449",
   "metadata": {},
   "outputs": [
    {
     "data": {
      "text/plain": [
       "{'accuracy': 99.02, 'whitespace': 12.24, 'order': 1, 'page': 1}"
      ]
     },
     "execution_count": 15,
     "metadata": {},
     "output_type": "execute_result"
    }
   ],
   "source": [
    "pdf[0].parsing_report"
   ]
  },
  {
   "cell_type": "code",
   "execution_count": 16,
   "id": "27447a62",
   "metadata": {},
   "outputs": [
    {
     "data": {
      "text/plain": [
       "<Table shape=(7, 7)>"
      ]
     },
     "execution_count": 16,
     "metadata": {},
     "output_type": "execute_result"
    }
   ],
   "source": [
    "first_pdf"
   ]
  },
  {
   "cell_type": "code",
   "execution_count": null,
   "id": "edbb99ce",
   "metadata": {},
   "outputs": [],
   "source": []
  }
 ],
 "metadata": {
  "kernelspec": {
   "display_name": "Python 3",
   "language": "python",
   "name": "python3"
  },
  "language_info": {
   "codemirror_mode": {
    "name": "ipython",
    "version": 3
   },
   "file_extension": ".py",
   "mimetype": "text/x-python",
   "name": "python",
   "nbconvert_exporter": "python",
   "pygments_lexer": "ipython3",
   "version": "3.8.8"
  }
 },
 "nbformat": 4,
 "nbformat_minor": 5
}
