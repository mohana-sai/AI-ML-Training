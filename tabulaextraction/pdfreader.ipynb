{
 "cells": [
  {
   "cell_type": "code",
   "execution_count": 1,
   "id": "ceae76f5-f957-48eb-b484-2628b40ca4ad",
   "metadata": {},
   "outputs": [],
   "source": [
    "from PyPDF2 import PdfFileReader, PdfFileWriter"
   ]
  },
  {
   "cell_type": "code",
   "execution_count": 11,
   "id": "b9764359",
   "metadata": {},
   "outputs": [
    {
     "name": "stdout",
     "output_type": "stream",
     "text": [
      "Requirement already satisfied: tabula-py in /home/knoldus/anaconda3/lib/python3.8/site-packages (2.3.0)\n",
      "Requirement already satisfied: distro in /home/knoldus/anaconda3/lib/python3.8/site-packages (from tabula-py) (1.6.0)\n",
      "Requirement already satisfied: pandas>=0.25.3 in /home/knoldus/anaconda3/lib/python3.8/site-packages (from tabula-py) (1.2.4)\n",
      "Requirement already satisfied: numpy in /home/knoldus/anaconda3/lib/python3.8/site-packages (from tabula-py) (1.20.1)\n",
      "Requirement already satisfied: python-dateutil>=2.7.3 in /home/knoldus/anaconda3/lib/python3.8/site-packages (from pandas>=0.25.3->tabula-py) (2.8.1)\n",
      "Requirement already satisfied: pytz>=2017.3 in /home/knoldus/anaconda3/lib/python3.8/site-packages (from pandas>=0.25.3->tabula-py) (2021.1)\n",
      "Requirement already satisfied: six>=1.5 in /home/knoldus/anaconda3/lib/python3.8/site-packages (from python-dateutil>=2.7.3->pandas>=0.25.3->tabula-py) (1.15.0)\n",
      "Requirement already satisfied: tabulate in /home/knoldus/anaconda3/lib/python3.8/site-packages (0.8.9)\n"
     ]
    }
   ],
   "source": [
    "!pip install tabula-py\n",
    "!pip install tabulate"
   ]
  },
  {
   "cell_type": "code",
   "execution_count": 12,
   "id": "04e96725-918d-40fb-92f0-9cffd3226fad",
   "metadata": {},
   "outputs": [],
   "source": [
    "import tabula\n",
    "from tabulate import tabulate"
   ]
  },
  {
   "cell_type": "code",
   "execution_count": 15,
   "id": "e4417e90-1647-4207-a6ec-3cf7c425d874",
   "metadata": {},
   "outputs": [
    {
     "data": {
      "text/plain": [
       "[   S. No.   Roll No. Name of the Candidate\n",
       " 0       1  102190498                 RUCHI\n",
       " 1       2  103190880            RAVI ARORA\n",
       " 2       3  104190001           ANANT KUMAR\n",
       " 3       4  104190797       YASHDEEP CHAHAL\n",
       " 4       5  103190896           ARJUN ANAND\n",
       " 5       6  103190332      ROHIT KUMAR BEDI\n",
       " 6       7  106190095     PUSHKAR BHARADWAJ\n",
       " 7       8  103190595      MUKESH CHOUDHARY\n",
       " 8       9  104190442       SHUBHAM AGARWAL\n",
       " 9      10  102190052      SIDDHARTH GODARA\n",
       " 10     11  102190433         ADITYA SHARMA\n",
       " 11     12  104190679          NAVNEET KAUR\n",
       " 12     13  105190875          AKSHAT TOMAR\n",
       " 13     14  102190291          SAGAR SHARMA\n",
       " 14     15  104190810         KUNAL AHLAWAT\n",
       " 15     16  104190230  VAIBHAV PRATAP SINGH\n",
       " 16     17  105190725      HIMANSHU BHARGAV\n",
       " 17     18  103190328     UNNATI SRIVASTAVA\n",
       " 18     19  104190367       ADARSH TRIPATHI\n",
       " 19     20  103190818          ASTHA BHARTI\n",
       " 20     21  105190250         SUKRITI SINGH\n",
       " 21     22  105190783           AGAM SHARMA\n",
       " 22     23  103190554        KIRANDEEP KAUR\n",
       " 23    *24  103191094        VINEET DWIVEDI\n",
       " 24     25  103190156        PRIYA BARANWAL\n",
       " 25     26  104190688         AGRIMA SHARMA\n",
       " 26    *27  101190071       DEEPESH BAHADUR\n",
       " 27     28  103190727         ASMITA SHARMA\n",
       " 28     29  103190772         NANCY AGRAWAL\n",
       " 29     30  102190551           VARUN TYAGI\n",
       " 30     31  103190951           ROHIT KUMAR\n",
       " 31     32  102190491         CHIRAG SHARMA,\n",
       "     33  102190156     DEVESH SHUKLA\n",
       " 0   34  106190284      HARCHAND RAM\n",
       " 1   35  103190091  DIMPLE CHOUDHARI\n",
       " 2   36  103190312      BHAVYA MALIK\n",
       " 3   37  103190967    ASHUTOSH VERMA\n",
       " 4   38  103190151     LASHIT SHARMA\n",
       " 5   39  103190579    IEESHAN SHARMA\n",
       " 6   40  104190578      GARIMA SINGH\n",
       " 7   41  104190748       SUMIT SINGH\n",
       " 8   42  103190222          JAISHREE\n",
       " 9   43  103190298       ANKIT GUPTA\n",
       " 10  44  103191122      ANJALI GUPTA\n",
       " 11  45  101190281    TATHEER FATIMA]"
      ]
     },
     "execution_count": 15,
     "metadata": {},
     "output_type": "execute_result"
    }
   ],
   "source": [
    "df = tabula.read_pdf(\"structured.pdf\", pages = \"all\")\n",
    "df"
   ]
  },
  {
   "cell_type": "code",
   "execution_count": 16,
   "id": "20292bbe-8ada-4fce-8478-c44d768e797d",
   "metadata": {},
   "outputs": [],
   "source": [
    "tabula.convert_into(\"structured.pdf\", \"output.csv\", output_format=\"csv\", pages='all')"
   ]
  },
  {
   "cell_type": "code",
   "execution_count": 22,
   "id": "9443447f-f9d9-4900-b3d8-6e6de54a98fe",
   "metadata": {},
   "outputs": [
    {
     "name": "stderr",
     "output_type": "stream",
     "text": [
      "'pages' argument isn't specified.Will extract only from page 1 by default.\n"
     ]
    },
    {
     "data": {
      "text/plain": [
       "[   S. No.   Roll No. Name of the Candidate\n",
       " 0       1  102190498                 RUCHI\n",
       " 1       2  103190880            RAVI ARORA\n",
       " 2       3  104190001           ANANT KUMAR\n",
       " 3       4  104190797       YASHDEEP CHAHAL\n",
       " 4       5  103190896           ARJUN ANAND\n",
       " 5       6  103190332      ROHIT KUMAR BEDI\n",
       " 6       7  106190095     PUSHKAR BHARADWAJ\n",
       " 7       8  103190595      MUKESH CHOUDHARY\n",
       " 8       9  104190442       SHUBHAM AGARWAL\n",
       " 9      10  102190052      SIDDHARTH GODARA\n",
       " 10     11  102190433         ADITYA SHARMA\n",
       " 11     12  104190679          NAVNEET KAUR\n",
       " 12     13  105190875          AKSHAT TOMAR\n",
       " 13     14  102190291          SAGAR SHARMA\n",
       " 14     15  104190810         KUNAL AHLAWAT\n",
       " 15     16  104190230  VAIBHAV PRATAP SINGH\n",
       " 16     17  105190725      HIMANSHU BHARGAV\n",
       " 17     18  103190328     UNNATI SRIVASTAVA\n",
       " 18     19  104190367       ADARSH TRIPATHI\n",
       " 19     20  103190818          ASTHA BHARTI\n",
       " 20     21  105190250         SUKRITI SINGH\n",
       " 21     22  105190783           AGAM SHARMA\n",
       " 22     23  103190554        KIRANDEEP KAUR\n",
       " 23    *24  103191094        VINEET DWIVEDI\n",
       " 24     25  103190156        PRIYA BARANWAL\n",
       " 25     26  104190688         AGRIMA SHARMA\n",
       " 26    *27  101190071       DEEPESH BAHADUR\n",
       " 27     28  103190727         ASMITA SHARMA\n",
       " 28     29  103190772         NANCY AGRAWAL\n",
       " 29     30  102190551           VARUN TYAGI\n",
       " 30     31  103190951           ROHIT KUMAR\n",
       " 31     32  102190491         CHIRAG SHARMA]"
      ]
     },
     "execution_count": 22,
     "metadata": {},
     "output_type": "execute_result"
    }
   ],
   "source": [
    "df = tabula.read_pdf(\"structured.pdf\",  multiple_tables= True)\n",
    "df"
   ]
  },
  {
   "cell_type": "code",
   "execution_count": 23,
   "id": "d3a10eae-0a61-4867-91b7-c3380af66ca6",
   "metadata": {},
   "outputs": [
    {
     "name": "stdout",
     "output_type": "stream",
     "text": [
      "Requirement already satisfied: PyPDF2 in /home/knoldus/anaconda3/lib/python3.8/site-packages (1.26.0)\r\n"
     ]
    }
   ],
   "source": [
    "!pip install PyPDF2"
   ]
  },
  {
   "cell_type": "code",
   "execution_count": 24,
   "id": "9d0ad899-4eb9-4227-9a9a-c2d332718699",
   "metadata": {},
   "outputs": [
    {
     "name": "stdout",
     "output_type": "stream",
     "text": [
      "     \n",
      "33\n",
      " \n",
      "102\n",
      "190156\n",
      " \n",
      "DEVESH SHUKLA\n",
      " \n",
      "     \n",
      "34\n",
      " \n",
      "106190284\n",
      " \n",
      "HARCHAND RAM\n",
      " \n",
      "     \n",
      "35\n",
      " \n",
      "103190091\n",
      " \n",
      "DIMPLE CHOUDHARI\n",
      " \n",
      "     \n",
      "36\n",
      " \n",
      "103190312\n",
      " \n",
      "BHAVYA MALIK\n",
      " \n",
      "     \n",
      "37\n",
      " \n",
      "103190967\n",
      " \n",
      "ASHUTOSH VERMA\n",
      " \n",
      "     \n",
      "38\n",
      " \n",
      "103190151\n",
      " \n",
      "LASHIT SHARMA\n",
      " \n",
      "     \n",
      "39\n",
      " \n",
      "103190579\n",
      " \n",
      "  \n",
      "IEESHAN SHARMA\n",
      " \n",
      "     \n",
      "40\n",
      " \n",
      "104190578\n",
      " \n",
      "  \n",
      "GARIMA SING\n",
      "H\n",
      " \n",
      "     \n",
      "41\n",
      " \n",
      "104190748\n",
      " \n",
      "  \n",
      "SUMIT SINGH\n",
      " \n",
      "     \n",
      "42\n",
      " \n",
      "103190222\n",
      " \n",
      "  \n",
      "JAISHREE\n",
      " \n",
      "     \n",
      "43\n",
      " \n",
      "103190298\n",
      " \n",
      "  \n",
      "ANKIT GUPTA\n",
      " \n",
      "     \n",
      "44\n",
      " \n",
      "103191122\n",
      " \n",
      "  \n",
      "ANJALI GUPTA\n",
      " \n",
      "     \n",
      "45\n",
      " \n",
      "101190281\n",
      " \n",
      "  \n",
      "TATHEER FATIMA\n",
      " \n",
      " \n",
      " \n",
      " \n",
      "* Empanelment of candidate is \n",
      "provisional subject to complying of\n",
      " \n",
      "           \n",
      "f\n",
      "ormalities.\n",
      " \n",
      " \n",
      "\n"
     ]
    }
   ],
   "source": [
    "import PyPDF2\n",
    "pdf_file = open('structured.pdf', 'rb')\n",
    "read_pdf = PyPDF2.PdfFileReader(pdf_file)\n",
    "number_of_pages = read_pdf.getNumPages()\n",
    "page = read_pdf.getPage(1)\n",
    "page_content = page.extractText()\n",
    "print (page_content)\n"
   ]
  },
  {
   "cell_type": "code",
   "execution_count": 10,
   "id": "158b2e6e-c758-4116-8a1f-5a5887bf9a55",
   "metadata": {},
   "outputs": [
    {
     "name": "stdout",
     "output_type": "stream",
     "text": [
      "['     ' '33' ' ' '102']\n",
      "['190156' ' ' 'DEVESH SHUKLA' ' ']\n",
      "['     ' '34' ' ' '106190284']\n",
      "[' ' 'HARCHAND RAM' ' ' '     ']\n",
      "['35' ' ' '103190091' ' ']\n"
     ]
    }
   ],
   "source": [
    "import numpy\n",
    "\n",
    "table_list = page_content.split('\\n')\n",
    "l = numpy.array_split(table_list, len(table_list)/4)\n",
    "for i in range(0,5):\n",
    "    print(l[i])"
   ]
  },
  {
   "cell_type": "code",
   "execution_count": null,
   "id": "dc53cf4d-ea33-405b-b362-fde258e29b33",
   "metadata": {},
   "outputs": [],
   "source": []
  },
  {
   "cell_type": "code",
   "execution_count": null,
   "id": "32aa18bd-5682-4dbd-a683-345fc92462a2",
   "metadata": {},
   "outputs": [],
   "source": []
  },
  {
   "cell_type": "code",
   "execution_count": null,
   "id": "1803a80f-7a2f-49c1-9ee6-e4fb46634f9f",
   "metadata": {},
   "outputs": [],
   "source": []
  }
 ],
 "metadata": {
  "kernelspec": {
   "display_name": "Python 3",
   "language": "python",
   "name": "python3"
  },
  "language_info": {
   "codemirror_mode": {
    "name": "ipython",
    "version": 3
   },
   "file_extension": ".py",
   "mimetype": "text/x-python",
   "name": "python",
   "nbconvert_exporter": "python",
   "pygments_lexer": "ipython3",
   "version": "3.8.8"
  }
 },
 "nbformat": 4,
 "nbformat_minor": 5
}
