{
 "cells": [
  {
   "cell_type": "code",
   "execution_count": 1,
   "id": "ceae76f5-f957-48eb-b484-2628b40ca4ad",
   "metadata": {},
   "outputs": [],
   "source": [
    "from PyPDF2 import PdfFileReader, PdfFileWriter\n"
   ]
  },
  {
   "cell_type": "code",
   "execution_count": 3,
   "id": "927532d3-156a-4471-a823-ca436cfe3a4b",
   "metadata": {},
   "outputs": [
    {
     "name": "stdout",
     "output_type": "stream",
     "text": [
      "Requirement already satisfied: tabula-py in /home/knoldus/anaconda3/lib/python3.8/site-packages (2.3.0)\n",
      "Requirement already satisfied: distro in /home/knoldus/anaconda3/lib/python3.8/site-packages (from tabula-py) (1.6.0)\n",
      "Requirement already satisfied: numpy in /home/knoldus/anaconda3/lib/python3.8/site-packages (from tabula-py) (1.20.1)\n",
      "Requirement already satisfied: pandas>=0.25.3 in /home/knoldus/anaconda3/lib/python3.8/site-packages (from tabula-py) (1.2.4)\n",
      "Requirement already satisfied: python-dateutil>=2.7.3 in /home/knoldus/anaconda3/lib/python3.8/site-packages (from pandas>=0.25.3->tabula-py) (2.8.1)\n",
      "Requirement already satisfied: pytz>=2017.3 in /home/knoldus/anaconda3/lib/python3.8/site-packages (from pandas>=0.25.3->tabula-py) (2021.1)\n",
      "Requirement already satisfied: six>=1.5 in /home/knoldus/anaconda3/lib/python3.8/site-packages (from python-dateutil>=2.7.3->pandas>=0.25.3->tabula-py) (1.15.0)\n",
      "Requirement already satisfied: tabulate in /home/knoldus/anaconda3/lib/python3.8/site-packages (0.8.9)\n"
     ]
    }
   ],
   "source": [
    "!pip install tabula-py\n",
    "!pip install tabulate"
   ]
  },
  {
   "cell_type": "code",
   "execution_count": 4,
   "id": "04e96725-918d-40fb-92f0-9cffd3226fad",
   "metadata": {},
   "outputs": [],
   "source": [
    "import tabula\n",
    "from tabulate import tabulate"
   ]
  },
  {
   "cell_type": "code",
   "execution_count": 8,
   "id": "e4417e90-1647-4207-a6ec-3cf7c425d874",
   "metadata": {},
   "outputs": [
    {
     "name": "stderr",
     "output_type": "stream",
     "text": [
      "Error from tabula-java:\n",
      "Exception in thread \"main\" java.lang.UnsatisfiedLinkError: Can't load library: /usr/lib/jvm/java-11-openjdk-amd64/lib/libawt_xawt.so\n",
      "\tat java.base/java.lang.ClassLoader.loadLibrary(ClassLoader.java:2630)\n",
      "\tat java.base/java.lang.Runtime.load0(Runtime.java:768)\n",
      "\tat java.base/java.lang.System.load(System.java:1837)\n",
      "\tat java.base/java.lang.ClassLoader$NativeLibrary.load0(Native Method)\n",
      "\tat java.base/java.lang.ClassLoader$NativeLibrary.load(ClassLoader.java:2442)\n",
      "\tat java.base/java.lang.ClassLoader$NativeLibrary.loadLibrary(ClassLoader.java:2498)\n",
      "\tat java.base/java.lang.ClassLoader.loadLibrary0(ClassLoader.java:2694)\n",
      "\tat java.base/java.lang.ClassLoader.loadLibrary(ClassLoader.java:2648)\n",
      "\tat java.base/java.lang.Runtime.loadLibrary0(Runtime.java:830)\n",
      "\tat java.base/java.lang.System.loadLibrary(System.java:1873)\n",
      "\tat java.desktop/java.awt.image.ColorModel$1.run(ColorModel.java:209)\n",
      "\tat java.desktop/java.awt.image.ColorModel$1.run(ColorModel.java:207)\n",
      "\tat java.base/java.security.AccessController.doPrivileged(Native Method)\n",
      "\tat java.desktop/java.awt.image.ColorModel.loadLibraries(ColorModel.java:206)\n",
      "\tat java.desktop/java.awt.image.ColorModel.<clinit>(ColorModel.java:219)\n",
      "\tat java.desktop/java.awt.image.Raster.<clinit>(Raster.java:172)\n",
      "\tat org.apache.pdfbox.pdmodel.PDDocument.<clinit>(PDDocument.java:107)\n",
      "\tat technology.tabula.CommandLineApp.extractFile(CommandLineApp.java:156)\n",
      "\tat technology.tabula.CommandLineApp.extractFileTables(CommandLineApp.java:124)\n",
      "\tat technology.tabula.CommandLineApp.extractTables(CommandLineApp.java:106)\n",
      "\tat technology.tabula.CommandLineApp.main(CommandLineApp.java:76)\n",
      "\n",
      "\n"
     ]
    },
    {
     "ename": "CalledProcessError",
     "evalue": "Command '['java', '-Dfile.encoding=UTF8', '-jar', '/home/knoldus/anaconda3/lib/python3.8/site-packages/tabula/tabula-1.0.5-jar-with-dependencies.jar', '--pages', 'all', '--guess', '--format', 'JSON', 'structured.pdf']' returned non-zero exit status 1.",
     "output_type": "error",
     "traceback": [
      "\u001b[0;31m---------------------------------------------------------------------------\u001b[0m",
      "\u001b[0;31mCalledProcessError\u001b[0m                        Traceback (most recent call last)",
      "\u001b[0;32m<ipython-input-8-1c8db85d7086>\u001b[0m in \u001b[0;36m<module>\u001b[0;34m\u001b[0m\n\u001b[0;32m----> 1\u001b[0;31m \u001b[0mdf\u001b[0m \u001b[0;34m=\u001b[0m \u001b[0mtabula\u001b[0m\u001b[0;34m.\u001b[0m\u001b[0mread_pdf\u001b[0m\u001b[0;34m(\u001b[0m\u001b[0;34m\"structured.pdf\"\u001b[0m\u001b[0;34m,\u001b[0m\u001b[0mpages\u001b[0m \u001b[0;34m=\u001b[0m \u001b[0;34m\"all\"\u001b[0m\u001b[0;34m)\u001b[0m\u001b[0;34m\u001b[0m\u001b[0;34m\u001b[0m\u001b[0m\n\u001b[0m",
      "\u001b[0;32m~/anaconda3/lib/python3.8/site-packages/tabula/io.py\u001b[0m in \u001b[0;36mread_pdf\u001b[0;34m(input_path, output_format, encoding, java_options, pandas_options, multiple_tables, user_agent, **kwargs)\u001b[0m\n\u001b[1;32m    320\u001b[0m \u001b[0;34m\u001b[0m\u001b[0m\n\u001b[1;32m    321\u001b[0m     \u001b[0;32mtry\u001b[0m\u001b[0;34m:\u001b[0m\u001b[0;34m\u001b[0m\u001b[0;34m\u001b[0m\u001b[0m\n\u001b[0;32m--> 322\u001b[0;31m         \u001b[0moutput\u001b[0m \u001b[0;34m=\u001b[0m \u001b[0m_run\u001b[0m\u001b[0;34m(\u001b[0m\u001b[0mjava_options\u001b[0m\u001b[0;34m,\u001b[0m \u001b[0mkwargs\u001b[0m\u001b[0;34m,\u001b[0m \u001b[0mpath\u001b[0m\u001b[0;34m,\u001b[0m \u001b[0mencoding\u001b[0m\u001b[0;34m)\u001b[0m\u001b[0;34m\u001b[0m\u001b[0;34m\u001b[0m\u001b[0m\n\u001b[0m\u001b[1;32m    323\u001b[0m     \u001b[0;32mfinally\u001b[0m\u001b[0;34m:\u001b[0m\u001b[0;34m\u001b[0m\u001b[0;34m\u001b[0m\u001b[0m\n\u001b[1;32m    324\u001b[0m         \u001b[0;32mif\u001b[0m \u001b[0mtemporary\u001b[0m\u001b[0;34m:\u001b[0m\u001b[0;34m\u001b[0m\u001b[0;34m\u001b[0m\u001b[0m\n",
      "\u001b[0;32m~/anaconda3/lib/python3.8/site-packages/tabula/io.py\u001b[0m in \u001b[0;36m_run\u001b[0;34m(java_options, options, path, encoding)\u001b[0m\n\u001b[1;32m     78\u001b[0m \u001b[0;34m\u001b[0m\u001b[0m\n\u001b[1;32m     79\u001b[0m     \u001b[0;32mtry\u001b[0m\u001b[0;34m:\u001b[0m\u001b[0;34m\u001b[0m\u001b[0;34m\u001b[0m\u001b[0m\n\u001b[0;32m---> 80\u001b[0;31m         result = subprocess.run(\n\u001b[0m\u001b[1;32m     81\u001b[0m             \u001b[0margs\u001b[0m\u001b[0;34m,\u001b[0m\u001b[0;34m\u001b[0m\u001b[0;34m\u001b[0m\u001b[0m\n\u001b[1;32m     82\u001b[0m             \u001b[0mstdout\u001b[0m\u001b[0;34m=\u001b[0m\u001b[0msubprocess\u001b[0m\u001b[0;34m.\u001b[0m\u001b[0mPIPE\u001b[0m\u001b[0;34m,\u001b[0m\u001b[0;34m\u001b[0m\u001b[0;34m\u001b[0m\u001b[0m\n",
      "\u001b[0;32m~/anaconda3/lib/python3.8/subprocess.py\u001b[0m in \u001b[0;36mrun\u001b[0;34m(input, capture_output, timeout, check, *popenargs, **kwargs)\u001b[0m\n\u001b[1;32m    514\u001b[0m         \u001b[0mretcode\u001b[0m \u001b[0;34m=\u001b[0m \u001b[0mprocess\u001b[0m\u001b[0;34m.\u001b[0m\u001b[0mpoll\u001b[0m\u001b[0;34m(\u001b[0m\u001b[0;34m)\u001b[0m\u001b[0;34m\u001b[0m\u001b[0;34m\u001b[0m\u001b[0m\n\u001b[1;32m    515\u001b[0m         \u001b[0;32mif\u001b[0m \u001b[0mcheck\u001b[0m \u001b[0;32mand\u001b[0m \u001b[0mretcode\u001b[0m\u001b[0;34m:\u001b[0m\u001b[0;34m\u001b[0m\u001b[0;34m\u001b[0m\u001b[0m\n\u001b[0;32m--> 516\u001b[0;31m             raise CalledProcessError(retcode, process.args,\n\u001b[0m\u001b[1;32m    517\u001b[0m                                      output=stdout, stderr=stderr)\n\u001b[1;32m    518\u001b[0m     \u001b[0;32mreturn\u001b[0m \u001b[0mCompletedProcess\u001b[0m\u001b[0;34m(\u001b[0m\u001b[0mprocess\u001b[0m\u001b[0;34m.\u001b[0m\u001b[0margs\u001b[0m\u001b[0;34m,\u001b[0m \u001b[0mretcode\u001b[0m\u001b[0;34m,\u001b[0m \u001b[0mstdout\u001b[0m\u001b[0;34m,\u001b[0m \u001b[0mstderr\u001b[0m\u001b[0;34m)\u001b[0m\u001b[0;34m\u001b[0m\u001b[0;34m\u001b[0m\u001b[0m\n",
      "\u001b[0;31mCalledProcessError\u001b[0m: Command '['java', '-Dfile.encoding=UTF8', '-jar', '/home/knoldus/anaconda3/lib/python3.8/site-packages/tabula/tabula-1.0.5-jar-with-dependencies.jar', '--pages', 'all', '--guess', '--format', 'JSON', 'structured.pdf']' returned non-zero exit status 1."
     ]
    }
   ],
   "source": [
    "\n",
    "df = tabula.read_pdf(\"structured.pdf\",pages = \"all\")"
   ]
  },
  {
   "cell_type": "code",
   "execution_count": 17,
   "id": "20292bbe-8ada-4fce-8478-c44d768e797d",
   "metadata": {},
   "outputs": [],
   "source": [
    "tabula.convert_into(\"~/Desktop/PDF/14122021_113522.pdf\", \"output.csv\", output_format=\"csv\", pages='all')"
   ]
  },
  {
   "cell_type": "code",
   "execution_count": 181,
   "id": "c90189e3-d9e6-4aeb-8eda-8c3b19ddd7fa",
   "metadata": {},
   "outputs": [
    {
     "name": "stderr",
     "output_type": "stream",
     "text": [
      "'pages' argument isn't specified.Will extract only from page 1 by default.\n"
     ]
    },
    {
     "ename": "AttributeError",
     "evalue": "'list' object has no attribute 'dropna'",
     "output_type": "error",
     "traceback": [
      "\u001b[0;31m---------------------------------------------------------------------------\u001b[0m",
      "\u001b[0;31mAttributeError\u001b[0m                            Traceback (most recent call last)",
      "\u001b[0;32m/tmp/ipykernel_79161/2533316275.py\u001b[0m in \u001b[0;36m<module>\u001b[0;34m\u001b[0m\n\u001b[1;32m      1\u001b[0m \u001b[0mdf\u001b[0m \u001b[0;34m=\u001b[0m \u001b[0mtabula\u001b[0m\u001b[0;34m.\u001b[0m\u001b[0mread_pdf\u001b[0m\u001b[0;34m(\u001b[0m\u001b[0mloc\u001b[0m\u001b[0;34m)\u001b[0m\u001b[0;34m\u001b[0m\u001b[0;34m\u001b[0m\u001b[0m\n\u001b[0;32m----> 2\u001b[0;31m \u001b[0mdf\u001b[0m \u001b[0;34m=\u001b[0m \u001b[0mdf\u001b[0m\u001b[0;34m.\u001b[0m\u001b[0mdropna\u001b[0m\u001b[0;34m(\u001b[0m\u001b[0maxis\u001b[0m\u001b[0;34m=\u001b[0m\u001b[0;34m'columns'\u001b[0m\u001b[0;34m)\u001b[0m\u001b[0;34m\u001b[0m\u001b[0;34m\u001b[0m\u001b[0m\n\u001b[0m\u001b[1;32m      3\u001b[0m \u001b[0mdf\u001b[0m\u001b[0;34m\u001b[0m\u001b[0;34m\u001b[0m\u001b[0m\n",
      "\u001b[0;31mAttributeError\u001b[0m: 'list' object has no attribute 'dropna'"
     ]
    }
   ],
   "source": [
    "df = tabula.read_pdf(loc)\n",
    "df = df.dropna(axis='columns')\n",
    "df"
   ]
  },
  {
   "cell_type": "code",
   "execution_count": 146,
   "id": "1c053e73-1893-45f3-a0c5-1a9bdd696558",
   "metadata": {},
   "outputs": [
    {
     "ename": "TypeError",
     "evalue": "list indices must be integers or slices, not str",
     "output_type": "error",
     "traceback": [
      "\u001b[0;31m---------------------------------------------------------------------------\u001b[0m",
      "\u001b[0;31mTypeError\u001b[0m                                 Traceback (most recent call last)",
      "\u001b[0;32m/tmp/ipykernel_79161/2918396948.py\u001b[0m in \u001b[0;36m<module>\u001b[0;34m\u001b[0m\n\u001b[0;32m----> 1\u001b[0;31m \u001b[0mdf\u001b[0m\u001b[0;34m[\u001b[0m\u001b[0;34m'Belastung'\u001b[0m\u001b[0;34m]\u001b[0m\u001b[0;34m\u001b[0m\u001b[0;34m\u001b[0m\u001b[0m\n\u001b[0m",
      "\u001b[0;31mTypeError\u001b[0m: list indices must be integers or slices, not str"
     ]
    }
   ],
   "source": [
    "df['Belastung']"
   ]
  },
  {
   "cell_type": "code",
   "execution_count": 109,
   "id": "4cea0b03-4dea-41ec-ac53-421aedaf2142",
   "metadata": {},
   "outputs": [],
   "source": [
    "# df = tabula.read_pdf(\"dataset/2017/de/public transport/4GBEC9.pdf\", pages=3)\n",
    "# print (tabulate(df))"
   ]
  },
  {
   "cell_type": "code",
   "execution_count": 110,
   "id": "57d1fcfd-a2e6-4bcc-88e9-8a217ba832c9",
   "metadata": {},
   "outputs": [],
   "source": [
    "# df = tabula.read_pdf(\"dataset/2019/de/flights/norwegian_KPE6BN.pdf\", pages=3, output_format=\"json\")\n",
    "# df"
   ]
  },
  {
   "cell_type": "code",
   "execution_count": 16,
   "id": "9443447f-f9d9-4900-b3d8-6e6de54a98fe",
   "metadata": {},
   "outputs": [
    {
     "name": "stderr",
     "output_type": "stream",
     "text": [
      "'pages' argument isn't specified.Will extract only from page 1 by default.\n"
     ]
    },
    {
     "data": {
      "text/plain": [
       "[              BREADS & CEREALS               Portion size *  \\\n",
       " 0          Bagel ( 1 average )               140 cals (45g)   \n",
       " 1           Biscuit digestives        86 cals (per biscuit)   \n",
       " 2                   Jaffa cake        48 cals (per biscuit)   \n",
       " 3    Bread white (thick slice)       96  cals (1 slice 40g)   \n",
       " 4      Bread wholemeal (thick)       88  cals (1 slice 40g)   \n",
       " 5                     Chapatis                     250 cals   \n",
       " 6                   Cornflakes              130  cals (35g)   \n",
       " 7                 Crackerbread            17 cals per slice   \n",
       " 8               Cream crackers        35 cals (per cracker)   \n",
       " 9                     Crumpets        93 cals (per crumpet)   \n",
       " 10   Flapjacks basic fruit mix                     320 cals   \n",
       " 11           Macaroni (boiled)              238 cals (250g)   \n",
       " 12                      Muesli              195  cals (50g)   \n",
       " 13         Naan bread (normal)  300 cals (small plate size)   \n",
       " 14            Noodles (boiled)              175 cals (250g)   \n",
       " 15     Pasta ( normal boiled )              330 cals (300g)   \n",
       " 16   Pasta (wholemeal boiled )              315 cals (300g)   \n",
       " 17  Porridge oats (with water)              193 cals (350g)   \n",
       " 18         Potatoes** (boiled)              210 cals (300g)   \n",
       " 19          Potatoes** (roast)              420 cals (300g)   \n",
       " \n",
       "    per 100 grams (3.5 oz)  Unnamed: 3 energy content  \n",
       " 0                310 cals         NaN         Medium  \n",
       " 1                480 cals         NaN           High  \n",
       " 2                370 cals         NaN       Med-High  \n",
       " 3                240 cals         NaN         Medium  \n",
       " 4                220 cals         NaN        Low-med  \n",
       " 5                300 cals         NaN         Medium  \n",
       " 6                370 cals         NaN       Med-High  \n",
       " 7                325 cals         NaN    Low Calorie  \n",
       " 8                440 cals         NaN  Low / portion  \n",
       " 9                198 cals         NaN        Low-Med  \n",
       " 10               500 cals         NaN           High  \n",
       " 11                95 cals         NaN    Low calorie  \n",
       " 12               390 cals         NaN       Med-high  \n",
       " 13               320 cals         NaN         Medium  \n",
       " 14                70 cals         NaN    Low calorie  \n",
       " 15               110 cals         NaN    Low calorie  \n",
       " 16               105 cals         NaN    Low calorie  \n",
       " 17                55 cals         NaN    Low calorie  \n",
       " 18                70 cals         NaN    Low calorie  \n",
       " 19               140 cals         NaN         Medium  ]"
      ]
     },
     "execution_count": 16,
     "metadata": {},
     "output_type": "execute_result"
    }
   ],
   "source": [
    "df = tabula.read_pdf(\"FoodCaloriesList.pdf\",  multiple_tables= False)\n",
    "df"
   ]
  },
  {
   "cell_type": "code",
   "execution_count": 113,
   "id": "4bd83aad-fc90-4d66-afc7-0d89a5c49c8c",
   "metadata": {},
   "outputs": [],
   "source": [
    "# df = tabula.read_pdf(\"FoodCaloriesList.pdf\", encoding = 'ISO-8859-1',\n",
    "#          stream=True, area = [269.875, 12.75, 790.5, 961], pages = 4, guess = False,  pandas_options={'header':None})\n",
    "# df"
   ]
  },
  {
   "cell_type": "markdown",
   "id": "2c1f9331-9afb-4c38-9804-e71f36dc5600",
   "metadata": {},
   "source": [
    "# With Camelot\n"
   ]
  },
  {
   "cell_type": "code",
   "execution_count": 54,
   "id": "5a6b5656-dfe4-45c3-9be7-4d0ef7678fea",
   "metadata": {},
   "outputs": [
    {
     "name": "stdout",
     "output_type": "stream",
     "text": [
      "Requirement already satisfied: camelot-py[all] in /home/knoldus/anaconda3/lib/python3.8/site-packages (0.10.1)\n",
      "Requirement already satisfied: chardet>=3.0.4 in /home/knoldus/anaconda3/lib/python3.8/site-packages (from camelot-py[all]) (4.0.0)\n",
      "Requirement already satisfied: pandas>=0.23.4 in /home/knoldus/.local/lib/python3.8/site-packages (from camelot-py[all]) (1.3.3)\n",
      "Requirement already satisfied: pdfminer.six>=20200726 in /home/knoldus/anaconda3/lib/python3.8/site-packages (from camelot-py[all]) (20211012)\n",
      "Requirement already satisfied: click>=6.7 in /home/knoldus/anaconda3/lib/python3.8/site-packages (from camelot-py[all]) (7.1.2)\n",
      "Requirement already satisfied: numpy>=1.13.3 in /home/knoldus/.local/lib/python3.8/site-packages (from camelot-py[all]) (1.21.2)\n",
      "Requirement already satisfied: openpyxl>=2.5.8 in /home/knoldus/.local/lib/python3.8/site-packages (from camelot-py[all]) (3.0.9)\n",
      "Requirement already satisfied: PyPDF2>=1.26.0 in /home/knoldus/anaconda3/lib/python3.8/site-packages (from camelot-py[all]) (1.26.0)\n",
      "Requirement already satisfied: tabulate>=0.8.9 in /home/knoldus/anaconda3/lib/python3.8/site-packages (from camelot-py[all]) (0.8.9)\n",
      "Collecting pdftopng>=0.2.3\n",
      "  Downloading pdftopng-0.2.3-cp38-cp38-manylinux2010_x86_64.whl (11.7 MB)\n",
      "     |████████████████████████████████| 11.7 MB 3.2 MB/s            \n",
      "\u001b[?25hRequirement already satisfied: matplotlib>=2.2.3 in /home/knoldus/.local/lib/python3.8/site-packages (from camelot-py[all]) (3.4.3)\n",
      "Collecting ghostscript>=0.7\n",
      "  Downloading ghostscript-0.7-py2.py3-none-any.whl (25 kB)\n",
      "Collecting opencv-python>=3.4.2.17\n",
      "  Downloading opencv_python-4.5.4.60-cp38-cp38-manylinux_2_17_x86_64.manylinux2014_x86_64.whl (60.3 MB)\n",
      "     |████████████████████████████████| 60.3 MB 3.4 MB/s            \n",
      "\u001b[?25hRequirement already satisfied: setuptools>=38.6.0 in /home/knoldus/anaconda3/lib/python3.8/site-packages (from ghostscript>=0.7->camelot-py[all]) (52.0.0.post20210125)\n",
      "Requirement already satisfied: cycler>=0.10 in /home/knoldus/.local/lib/python3.8/site-packages (from matplotlib>=2.2.3->camelot-py[all]) (0.10.0)\n",
      "Requirement already satisfied: python-dateutil>=2.7 in /home/knoldus/anaconda3/lib/python3.8/site-packages (from matplotlib>=2.2.3->camelot-py[all]) (2.8.1)\n",
      "Requirement already satisfied: pyparsing>=2.2.1 in /home/knoldus/.local/lib/python3.8/site-packages (from matplotlib>=2.2.3->camelot-py[all]) (2.4.7)\n",
      "Requirement already satisfied: kiwisolver>=1.0.1 in /home/knoldus/.local/lib/python3.8/site-packages (from matplotlib>=2.2.3->camelot-py[all]) (1.3.2)\n",
      "Requirement already satisfied: pillow>=6.2.0 in /home/knoldus/anaconda3/lib/python3.8/site-packages (from matplotlib>=2.2.3->camelot-py[all]) (8.2.0)\n",
      "Requirement already satisfied: et-xmlfile in /home/knoldus/.local/lib/python3.8/site-packages (from openpyxl>=2.5.8->camelot-py[all]) (1.1.0)\n",
      "Requirement already satisfied: pytz>=2017.3 in /home/knoldus/anaconda3/lib/python3.8/site-packages (from pandas>=0.23.4->camelot-py[all]) (2021.1)\n",
      "Requirement already satisfied: cryptography in /home/knoldus/anaconda3/lib/python3.8/site-packages (from pdfminer.six>=20200726->camelot-py[all]) (3.4.7)\n",
      "Requirement already satisfied: six in /home/knoldus/anaconda3/lib/python3.8/site-packages (from cycler>=0.10->matplotlib>=2.2.3->camelot-py[all]) (1.15.0)\n",
      "Requirement already satisfied: cffi>=1.12 in /home/knoldus/.local/lib/python3.8/site-packages (from cryptography->pdfminer.six>=20200726->camelot-py[all]) (1.15.0)\n",
      "Requirement already satisfied: pycparser in /home/knoldus/.local/lib/python3.8/site-packages (from cffi>=1.12->cryptography->pdfminer.six>=20200726->camelot-py[all]) (2.20)\n",
      "Installing collected packages: pdftopng, opencv-python, ghostscript\n",
      "Successfully installed ghostscript-0.7 opencv-python-4.5.4.60 pdftopng-0.2.3\n"
     ]
    }
   ],
   "source": [
    "!pip install camelot-py[all]\n",
    "\n",
    "\n"
   ]
  },
  {
   "cell_type": "code",
   "execution_count": 212,
   "id": "dd477c0b-baa1-4004-97b9-42d9367d7576",
   "metadata": {},
   "outputs": [
    {
     "data": {
      "text/plain": [
       "<TableList n=0>"
      ]
     },
     "execution_count": 212,
     "metadata": {},
     "output_type": "execute_result"
    }
   ],
   "source": [
    "import camelot\n",
    "tables = camelot.read_pdf(loc)\n",
    "tables"
   ]
  },
  {
   "cell_type": "code",
   "execution_count": 124,
   "id": "1b373819-511c-41a3-a501-eff293d4e5e8",
   "metadata": {},
   "outputs": [
    {
     "ename": "IndexError",
     "evalue": "list index out of range",
     "output_type": "error",
     "traceback": [
      "\u001b[0;31m---------------------------------------------------------------------------\u001b[0m",
      "\u001b[0;31mIndexError\u001b[0m                                Traceback (most recent call last)",
      "\u001b[0;32m/tmp/ipykernel_79161/3136879178.py\u001b[0m in \u001b[0;36m<module>\u001b[0;34m\u001b[0m\n\u001b[1;32m      1\u001b[0m \u001b[0mtables1\u001b[0m \u001b[0;34m=\u001b[0m \u001b[0mcamelot\u001b[0m\u001b[0;34m.\u001b[0m\u001b[0mread_pdf\u001b[0m\u001b[0;34m(\u001b[0m\u001b[0;34m\"dataset/2019/de/hotel/premierinn_GABCI19014325.pdf\"\u001b[0m\u001b[0;34m,\u001b[0m \u001b[0mpages\u001b[0m\u001b[0;34m=\u001b[0m\u001b[0;34m'all'\u001b[0m\u001b[0;34m,\u001b[0m \u001b[0marea\u001b[0m\u001b[0;34m=\u001b[0m\u001b[0;34m[\u001b[0m\u001b[0;36m269.875\u001b[0m\u001b[0;34m,\u001b[0m \u001b[0;36m120.75\u001b[0m\u001b[0;34m,\u001b[0m \u001b[0;36m790.5\u001b[0m\u001b[0;34m,\u001b[0m \u001b[0;36m561\u001b[0m\u001b[0;34m]\u001b[0m\u001b[0;34m)\u001b[0m\u001b[0;34m\u001b[0m\u001b[0;34m\u001b[0m\u001b[0m\n\u001b[0;32m----> 2\u001b[0;31m \u001b[0mprint\u001b[0m \u001b[0;34m(\u001b[0m\u001b[0mtabulate\u001b[0m\u001b[0;34m(\u001b[0m\u001b[0mtables1\u001b[0m\u001b[0;34m[\u001b[0m\u001b[0;36m0\u001b[0m\u001b[0;34m]\u001b[0m\u001b[0;34m.\u001b[0m\u001b[0mdf\u001b[0m\u001b[0;34m)\u001b[0m\u001b[0;34m)\u001b[0m\u001b[0;34m\u001b[0m\u001b[0;34m\u001b[0m\u001b[0m\n\u001b[0m",
      "\u001b[0;32m~/anaconda3/lib/python3.8/site-packages/camelot/core.py\u001b[0m in \u001b[0;36m__getitem__\u001b[0;34m(self, idx)\u001b[0m\n\u001b[1;32m    687\u001b[0m \u001b[0;34m\u001b[0m\u001b[0m\n\u001b[1;32m    688\u001b[0m     \u001b[0;32mdef\u001b[0m \u001b[0m__getitem__\u001b[0m\u001b[0;34m(\u001b[0m\u001b[0mself\u001b[0m\u001b[0;34m,\u001b[0m \u001b[0midx\u001b[0m\u001b[0;34m)\u001b[0m\u001b[0;34m:\u001b[0m\u001b[0;34m\u001b[0m\u001b[0;34m\u001b[0m\u001b[0m\n\u001b[0;32m--> 689\u001b[0;31m         \u001b[0;32mreturn\u001b[0m \u001b[0mself\u001b[0m\u001b[0;34m.\u001b[0m\u001b[0m_tables\u001b[0m\u001b[0;34m[\u001b[0m\u001b[0midx\u001b[0m\u001b[0;34m]\u001b[0m\u001b[0;34m\u001b[0m\u001b[0;34m\u001b[0m\u001b[0m\n\u001b[0m\u001b[1;32m    690\u001b[0m \u001b[0;34m\u001b[0m\u001b[0m\n\u001b[1;32m    691\u001b[0m     \u001b[0;34m@\u001b[0m\u001b[0mstaticmethod\u001b[0m\u001b[0;34m\u001b[0m\u001b[0;34m\u001b[0m\u001b[0m\n",
      "\u001b[0;31mIndexError\u001b[0m: list index out of range"
     ]
    }
   ],
   "source": [
    "tables1 = camelot.read_pdf(\"dataset/2019/de/hotel/premierinn_GABCI19014325.pdf\", pages='all', area=[269.875, 120.75, 790.5, 561])\n",
    "print (tabulate(tables1[0].df))"
   ]
  },
  {
   "cell_type": "code",
   "execution_count": 59,
   "id": "b7a50eb4-e43a-44b3-abff-b990d59fde97",
   "metadata": {},
   "outputs": [
    {
     "name": "stdout",
     "output_type": "stream",
     "text": [
      "30\n",
      "NOK\n",
      "31\n",
      "NOK\n",
      "32\n",
      "--  -------------\n",
      " 0  Mobile\n",
      "    Internet\n",
      " 1  Automation\n",
      "    of knowledge\n",
      "    work\n",
      " 2  The Internet\n",
      "    of Things\n",
      " 3  Cloud\n",
      "    technology\n",
      " 4  Advanced\n",
      "    robotics\n",
      " 5  Autonomous\n",
      "    and near-\n",
      "    autonomous\n",
      "    vehicles\n",
      " 6  Next-\n",
      "    generation\n",
      "    genomics\n",
      " 7  Energy\n",
      "    storage\n",
      " 8  3D printing\n",
      " 9  Advanced\n",
      "    materials\n",
      "10  Advanced oil\n",
      "    and gas\n",
      "    exploration\n",
      "    and recovery\n",
      "11  Renewable\n",
      "    energy\n",
      "--  -------------\n",
      "NOK\n",
      "33\n",
      "NOK\n",
      "34\n",
      "NOK\n"
     ]
    }
   ],
   "source": [
    "for i in range(30,35):\n",
    "    print (i)\n",
    "    tables = camelot.read_pdf(\"MGI_Disruptive_technologies_Full_report_May2013.pdf\", pages='%d' %  i)\n",
    "    try:\n",
    "        print (tabulate(tables[0].df))\n",
    "        print (tabulate(tables[1].df))\n",
    "    except IndexError:\n",
    "        print('NOK')"
   ]
  },
  {
   "cell_type": "markdown",
   "id": "d4f7d103-2801-4bc0-b20d-9026d1c46d78",
   "metadata": {},
   "source": [
    "# Extract by PyPDF2\n"
   ]
  },
  {
   "cell_type": "code",
   "execution_count": 60,
   "id": "d3a10eae-0a61-4867-91b7-c3380af66ca6",
   "metadata": {},
   "outputs": [
    {
     "name": "stdout",
     "output_type": "stream",
     "text": [
      "Requirement already satisfied: PyPDF2 in /home/knoldus/anaconda3/lib/python3.8/site-packages (1.26.0)\n"
     ]
    }
   ],
   "source": [
    "!pip install PyPDF2\n",
    "\n"
   ]
  },
  {
   "cell_type": "code",
   "execution_count": 150,
   "id": "9d0ad899-4eb9-4227-9a9a-c2d332718699",
   "metadata": {},
   "outputs": [
    {
     "name": "stdout",
     "output_type": "stream",
     "text": [
      "‹ê‹ê~~~‹ê~~~~~~~~~~~~~~~\n"
     ]
    }
   ],
   "source": [
    "import PyPDF2\n",
    "pdf_file = open('dataset/2019/de/hotel/citadines_08372561.pdf', 'rb')\n",
    "read_pdf = PyPDF2.PdfFileReader(pdf_file)\n",
    "number_of_pages = read_pdf.getNumPages()\n",
    "page = read_pdf.getPage(1)\n",
    "page_content = page.extractText()\n",
    "print (page_content)\n"
   ]
  },
  {
   "cell_type": "code",
   "execution_count": 151,
   "id": "158b2e6e-c758-4116-8a1f-5a5887bf9a55",
   "metadata": {},
   "outputs": [
    {
     "ename": "ValueError",
     "evalue": "number sections must be larger than 0.",
     "output_type": "error",
     "traceback": [
      "\u001b[0;31m---------------------------------------------------------------------------\u001b[0m",
      "\u001b[0;31mValueError\u001b[0m                                Traceback (most recent call last)",
      "\u001b[0;32m/tmp/ipykernel_79161/691595008.py\u001b[0m in \u001b[0;36m<module>\u001b[0;34m\u001b[0m\n\u001b[1;32m      2\u001b[0m \u001b[0;34m\u001b[0m\u001b[0m\n\u001b[1;32m      3\u001b[0m \u001b[0mtable_list\u001b[0m \u001b[0;34m=\u001b[0m \u001b[0mpage_content\u001b[0m\u001b[0;34m.\u001b[0m\u001b[0msplit\u001b[0m\u001b[0;34m(\u001b[0m\u001b[0;34m'\\n'\u001b[0m\u001b[0;34m)\u001b[0m\u001b[0;34m\u001b[0m\u001b[0;34m\u001b[0m\u001b[0m\n\u001b[0;32m----> 4\u001b[0;31m \u001b[0ml\u001b[0m \u001b[0;34m=\u001b[0m \u001b[0mnumpy\u001b[0m\u001b[0;34m.\u001b[0m\u001b[0marray_split\u001b[0m\u001b[0;34m(\u001b[0m\u001b[0mtable_list\u001b[0m\u001b[0;34m,\u001b[0m \u001b[0mlen\u001b[0m\u001b[0;34m(\u001b[0m\u001b[0mtable_list\u001b[0m\u001b[0;34m)\u001b[0m\u001b[0;34m/\u001b[0m\u001b[0;36m4\u001b[0m\u001b[0;34m)\u001b[0m\u001b[0;34m\u001b[0m\u001b[0;34m\u001b[0m\u001b[0m\n\u001b[0m\u001b[1;32m      5\u001b[0m \u001b[0;32mfor\u001b[0m \u001b[0mi\u001b[0m \u001b[0;32min\u001b[0m \u001b[0mrange\u001b[0m\u001b[0;34m(\u001b[0m\u001b[0;36m0\u001b[0m\u001b[0;34m,\u001b[0m\u001b[0;36m5\u001b[0m\u001b[0;34m)\u001b[0m\u001b[0;34m:\u001b[0m\u001b[0;34m\u001b[0m\u001b[0;34m\u001b[0m\u001b[0m\n\u001b[1;32m      6\u001b[0m     \u001b[0mprint\u001b[0m\u001b[0;34m(\u001b[0m\u001b[0ml\u001b[0m\u001b[0;34m[\u001b[0m\u001b[0mi\u001b[0m\u001b[0;34m]\u001b[0m\u001b[0;34m)\u001b[0m\u001b[0;34m\u001b[0m\u001b[0;34m\u001b[0m\u001b[0m\n",
      "\u001b[0;32m<__array_function__ internals>\u001b[0m in \u001b[0;36marray_split\u001b[0;34m(*args, **kwargs)\u001b[0m\n",
      "\u001b[0;32m~/.local/lib/python3.8/site-packages/numpy/lib/shape_base.py\u001b[0m in \u001b[0;36marray_split\u001b[0;34m(ary, indices_or_sections, axis)\u001b[0m\n\u001b[1;32m    776\u001b[0m         \u001b[0mNsections\u001b[0m \u001b[0;34m=\u001b[0m \u001b[0mint\u001b[0m\u001b[0;34m(\u001b[0m\u001b[0mindices_or_sections\u001b[0m\u001b[0;34m)\u001b[0m\u001b[0;34m\u001b[0m\u001b[0;34m\u001b[0m\u001b[0m\n\u001b[1;32m    777\u001b[0m         \u001b[0;32mif\u001b[0m \u001b[0mNsections\u001b[0m \u001b[0;34m<=\u001b[0m \u001b[0;36m0\u001b[0m\u001b[0;34m:\u001b[0m\u001b[0;34m\u001b[0m\u001b[0;34m\u001b[0m\u001b[0m\n\u001b[0;32m--> 778\u001b[0;31m             \u001b[0;32mraise\u001b[0m \u001b[0mValueError\u001b[0m\u001b[0;34m(\u001b[0m\u001b[0;34m'number sections must be larger than 0.'\u001b[0m\u001b[0;34m)\u001b[0m \u001b[0;32mfrom\u001b[0m \u001b[0;32mNone\u001b[0m\u001b[0;34m\u001b[0m\u001b[0;34m\u001b[0m\u001b[0m\n\u001b[0m\u001b[1;32m    779\u001b[0m         \u001b[0mNeach_section\u001b[0m\u001b[0;34m,\u001b[0m \u001b[0mextras\u001b[0m \u001b[0;34m=\u001b[0m \u001b[0mdivmod\u001b[0m\u001b[0;34m(\u001b[0m\u001b[0mNtotal\u001b[0m\u001b[0;34m,\u001b[0m \u001b[0mNsections\u001b[0m\u001b[0;34m)\u001b[0m\u001b[0;34m\u001b[0m\u001b[0;34m\u001b[0m\u001b[0m\n\u001b[1;32m    780\u001b[0m         section_sizes = ([0] +\n",
      "\u001b[0;31mValueError\u001b[0m: number sections must be larger than 0."
     ]
    }
   ],
   "source": [
    "import numpy\n",
    "\n",
    "table_list = page_content.split('\\n')\n",
    "l = numpy.array_split(table_list, len(table_list)/4)\n",
    "for i in range(0,5):\n",
    "    print(l[i])"
   ]
  },
  {
   "cell_type": "code",
   "execution_count": null,
   "id": "dc53cf4d-ea33-405b-b362-fde258e29b33",
   "metadata": {},
   "outputs": [],
   "source": []
  },
  {
   "cell_type": "code",
   "execution_count": null,
   "id": "32aa18bd-5682-4dbd-a683-345fc92462a2",
   "metadata": {},
   "outputs": [],
   "source": []
  },
  {
   "cell_type": "code",
   "execution_count": null,
   "id": "1803a80f-7a2f-49c1-9ee6-e4fb46634f9f",
   "metadata": {},
   "outputs": [],
   "source": []
  }
 ],
 "metadata": {
  "kernelspec": {
   "display_name": "Python 3",
   "language": "python",
   "name": "python3"
  },
  "language_info": {
   "codemirror_mode": {
    "name": "ipython",
    "version": 3
   },
   "file_extension": ".py",
   "mimetype": "text/x-python",
   "name": "python",
   "nbconvert_exporter": "python",
   "pygments_lexer": "ipython3",
   "version": "3.8.8"
  }
 },
 "nbformat": 4,
 "nbformat_minor": 5
}
